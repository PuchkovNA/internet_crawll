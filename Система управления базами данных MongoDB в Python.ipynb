{
 "cells": [
  {
   "cell_type": "code",
   "execution_count": 47,
   "id": "d040eecc-bcab-425f-8179-7ab5fd1a49e4",
   "metadata": {},
   "outputs": [],
   "source": [
    "from pymongo import MongoClient\n",
    "import requests\n",
    "from lxml import html,etree\n",
    "from bs4 import BeautifulSoup, NavigableString, Tag"
   ]
  },
  {
   "cell_type": "code",
   "execution_count": 2,
   "id": "bcfa10f6-ddb3-4e9d-abb8-5afaf1974e82",
   "metadata": {},
   "outputs": [],
   "source": [
    "def get_database():\n",
    "    CONNECTION_STRING = \"mongodb://localhost:27018/local\"\n",
    "    client = MongoClient(CONNECTION_STRING)\n",
    "    return client['news']\n",
    "if __name__ == \"__main__\":   \n",
    "    dbname = get_database()"
   ]
  },
  {
   "cell_type": "code",
   "execution_count": 3,
   "id": "955297a2-7cef-4ddb-8449-798e346ae2e6",
   "metadata": {},
   "outputs": [],
   "source": [
    "lenta_news_collection = dbname[\"lenta_news\"]\n",
    "mail_ru_news_collection = dbname[\"mailru_news\"]"
   ]
  },
  {
   "cell_type": "code",
   "execution_count": 4,
   "id": "44b0f973-86c7-40b3-b37a-6c1bfa26a61f",
   "metadata": {},
   "outputs": [
    {
     "ename": "NameError",
     "evalue": "name 'BeautifulSoup' is not defined",
     "output_type": "error",
     "traceback": [
      "\u001b[1;31m---------------------------------------------------------------------------\u001b[0m",
      "\u001b[1;31mNameError\u001b[0m                                 Traceback (most recent call last)",
      "Input \u001b[1;32mIn [46]\u001b[0m, in \u001b[0;36m<cell line: 3>\u001b[1;34m()\u001b[0m\n\u001b[0;32m      3\u001b[0m \u001b[38;5;28;01mfor\u001b[39;00m i \u001b[38;5;129;01min\u001b[39;00m \u001b[38;5;28mrange\u001b[39m(\u001b[38;5;241m10\u001b[39m):\n\u001b[0;32m      4\u001b[0m     req\u001b[38;5;241m=\u001b[39mrequests\u001b[38;5;241m.\u001b[39mget(\u001b[38;5;124m\"\u001b[39m\u001b[38;5;124mhttps://lenta.ru/parts/news/\u001b[39m\u001b[38;5;124m\"\u001b[39m\u001b[38;5;241m+\u001b[39m\u001b[38;5;28mstr\u001b[39m(i)\u001b[38;5;241m+\u001b[39m\u001b[38;5;124m\"\u001b[39m\u001b[38;5;124m/\u001b[39m\u001b[38;5;124m\"\u001b[39m, headers\u001b[38;5;241m=\u001b[39mheaders)\n\u001b[1;32m----> 5\u001b[0m     list_news\u001b[38;5;241m.\u001b[39mappend(\u001b[43mBeautifulSoup\u001b[49m(req\u001b[38;5;241m.\u001b[39mtext, \u001b[38;5;124m\"\u001b[39m\u001b[38;5;124mlxml\u001b[39m\u001b[38;5;124m\"\u001b[39m) )\n",
      "\u001b[1;31mNameError\u001b[0m: name 'BeautifulSoup' is not defined"
     ]
    }
   ],
   "source": [
    "headers={\"User-Agent\":\"Mozilla/5.0 (Windows NT 10.0; Win64; x64) AppleWebKit/537.36 (KHTML, like Gecko) Chrome/108.0.0.0 Safari/537.36\"}\n",
    "list_news=[]\n",
    "for i in range(10):\n",
    "    req=requests.get(\"https://lenta.ru/parts/news/\"+str(i)+\"/\", headers=headers)\n",
    "    list_news.append(html.fromstring(req.text))\n",
    "   \n",
    "  "
   ]
  },
  {
   "cell_type": "code",
   "execution_count": 5,
   "id": "abb89a9d-9cf9-47ee-924e-739520bb56c3",
   "metadata": {},
   "outputs": [],
   "source": [
    "lenta_news=[]\n",
    "for  i, one_page in enumerate(list_news):\n",
    "    for j, item in enumerate(one_page.xpath('//body//ul[1]/li[@class=\"parts-page__item\"]')):\n",
    "            href=item.xpath('a[@rel=\"noreferrer\"]/@href')[0]  if item.xpath('a[@rel=\"noreferrer\"]/@href') else \"https://lenta.ru\"+item.xpath('a/@href')[0] \n",
    "            title=item.xpath('a/h3[@class=\"card-full-news__title\"]/text()')[0]\n",
    "            time=item.xpath('a/div[@class=\"card-full-news__info\"]/time/text()')[0]\n",
    "            rubric=(item.xpath('a/div[@class=\"card-full-news__info\"]/svg/use/@*')+item.xpath('a/div[@class=\"card-full-news__info\"]/span/text()'))[0].replace('#ui-label_','')\n",
    "            myTuple=( {\"_id\":href,\n",
    "                       \"href\":href,\n",
    "                       \"title\":title,\n",
    "                       \"rubric\":rubric})\n",
    "            lenta_news.append(myTuple)"
   ]
  },
  {
   "cell_type": "code",
   "execution_count": 6,
   "id": "247e9593-4a46-437c-b5b5-ff7af124c5f3",
   "metadata": {},
   "outputs": [],
   "source": [
    "from pymongo import UpdateOne\n",
    "def insert_or_update_news_in_all_rubrics(collection_name, list_name):\n",
    "    upserts=[ UpdateOne({'_id':x['_id']}, {'$setOnInsert':x}, upsert=True) for x in list_name]\n",
    "    collection_name.bulk_write(upserts)\n"
   ]
  },
  {
   "cell_type": "code",
   "execution_count": 8,
   "id": "79dfd80e-4daa-4f52-ae9a-3f84db1d44a1",
   "metadata": {},
   "outputs": [],
   "source": [
    "insert_or_update_news_in_all_rubrics(lenta_news_collection, lenta_news)\n",
    "#collection_name.drop()insert_or_update_news_in_all_rubrics"
   ]
  },
  {
   "cell_type": "code",
   "execution_count": 10,
   "id": "0f63b8ba-3414-4873-8b90-76cbce6e471a",
   "metadata": {},
   "outputs": [],
   "source": [
    "def select_news_by_rubric(collection_name,rubric):\n",
    "    for item in  collection_name.find({ 'rubric': rubric}):\n",
    "        print(item)"
   ]
  },
  {
   "cell_type": "code",
   "execution_count": 11,
   "id": "e195284e-e56c-4306-aa20-895f51a9c261",
   "metadata": {},
   "outputs": [
    {
     "name": "stdout",
     "output_type": "stream",
     "text": [
      "{'_id': 'https://lenta.ru/news/2023/01/05/minno/', 'href': 'https://lenta.ru/news/2023/01/05/minno/', 'rubric': 'Мир', 'title': 'Минобороны сообщило о перехвате снарядов HIMARS'}\n",
      "{'_id': 'https://lenta.ru/news/2023/01/05/pu_er/', 'href': 'https://lenta.ru/news/2023/01/05/pu_er/', 'rubric': 'Мир', 'title': 'Путин и Эрдоган обсудили ситуацию на Украине и в Сирии'}\n",
      "{'_id': 'https://lenta.ru/news/2023/01/05/filippo/', 'href': 'https://lenta.ru/news/2023/01/05/filippo/', 'rubric': 'Мир', 'title': 'Французский политик назвал безумием передачу бронемашин AMX-10RC Украине'}\n",
      "{'_id': 'https://lenta.ru/news/2023/01/05/russia_nato/', 'href': 'https://lenta.ru/news/2023/01/05/russia_nato/', 'rubric': 'Мир', 'title': 'Экс-полковник британской армии допустил начало войны России и НАТО в 2023 году'}\n",
      "{'_id': 'https://lenta.ru/news/2023/01/05/nastupl/', 'href': 'https://lenta.ru/news/2023/01/05/nastupl/', 'rubric': 'Мир', 'title': 'Украине предрекли масштабное наступление зимой'}\n",
      "{'_id': 'https://lenta.ru/news/2023/01/05/obrashenie/', 'href': 'https://lenta.ru/news/2023/01/05/obrashenie/', 'rubric': 'Мир', 'title': 'Посольство США обратилось к россиянам'}\n",
      "{'_id': 'https://lenta.ru/news/2023/01/05/erdogan_putin/', 'href': 'https://lenta.ru/news/2023/01/05/erdogan_putin/', 'rubric': 'Мир', 'title': 'Эрдоган обсудил с Путиным проект газового хаба'}\n",
      "{'_id': 'https://lenta.ru/news/2023/01/05/erdogan/', 'href': 'https://lenta.ru/news/2023/01/05/erdogan/', 'rubric': 'Мир', 'title': 'Эрдоган призвал к скорейшему мирному урегулированию украинского конфликта'}\n",
      "{'_id': 'https://lenta.ru/news/2023/01/05/helpafgan/', 'href': 'https://lenta.ru/news/2023/01/05/helpafgan/', 'rubric': 'Мир', 'title': 'В США увидели помощь Украине в выводе войск из Афганистана'}\n",
      "{'_id': 'https://lenta.ru/news/2023/01/05/stoltenbergg/', 'href': 'https://lenta.ru/news/2023/01/05/stoltenbergg/', 'rubric': 'Мир', 'title': 'Генсек НАТО счел опасным недооценивать Россию'}\n",
      "{'_id': 'https://lenta.ru/news/2023/01/05/contacts/', 'href': 'https://lenta.ru/news/2023/01/05/contacts/', 'rubric': 'Мир', 'title': 'Во Франции заявили о желании сохранить контакты с Россией'}\n",
      "{'_id': 'https://lenta.ru/news/2023/01/05/parizh_technika/', 'href': 'https://lenta.ru/news/2023/01/05/parizh_technika/', 'rubric': 'Мир', 'title': 'МИД Франции назвал сроки отправки на Украину бронемашин AMX-10 RC'}\n",
      "{'_id': 'https://lenta.ru/news/2023/01/05/rpk/', 'href': 'https://lenta.ru/news/2023/01/05/rpk/', 'rubric': 'Мир', 'title': 'Турция заявила о нейтрализации 12 боевиков РПК на севере Сирии'}\n",
      "{'_id': 'https://lenta.ru/news/2023/01/05/unrealzadacha/', 'href': 'https://lenta.ru/news/2023/01/05/unrealzadacha/', 'rubric': 'Мир', 'title': 'В Германии оценили возможности Киева вернуть Крым и Донбасс'}\n",
      "{'_id': 'https://lenta.ru/news/2023/01/05/zaplatka/', 'href': 'https://lenta.ru/news/2023/01/05/zaplatka/', 'rubric': 'Мир', 'title': 'Байден попытался пересказать мудрость от соседа и озадачил американцев'}\n",
      "{'_id': 'https://lenta.ru/news/2023/01/05/unmisk/', 'href': 'https://lenta.ru/news/2023/01/05/unmisk/', 'rubric': 'Мир', 'title': 'В ООН отказались комментировать слова Меркель и Олланда о Минских соглашениях'}\n",
      "{'_id': 'https://lenta.ru/news/2023/01/05/drone/', 'href': 'https://lenta.ru/news/2023/01/05/drone/', 'rubric': 'Мир', 'title': 'Беспилотник КНДР проник в бесполетную зону у офиса президента Южной Кореи'}\n",
      "{'_id': 'https://lenta.ru/news/2023/01/05/refugees/', 'href': 'https://lenta.ru/news/2023/01/05/refugees/', 'rubric': 'Мир', 'title': 'Названы последствия массовой миграции в Европу'}\n",
      "{'_id': 'https://lenta.ru/news/2023/01/05/taivan/', 'href': 'https://lenta.ru/news/2023/01/05/taivan/', 'rubric': 'Мир', 'title': 'Тайвань расширил ограничения на экспорт в Россию'}\n",
      "{'_id': 'https://lenta.ru/news/2023/01/05/postavki/', 'href': 'https://lenta.ru/news/2023/01/05/postavki/', 'rubric': 'Мир', 'title': 'Названы главные задачи Байдена на 2023 год'}\n",
      "{'_id': 'https://lenta.ru/news/2023/01/05/switzerland/', 'href': 'https://lenta.ru/news/2023/01/05/switzerland/', 'rubric': 'Мир', 'title': 'Швейцария открестилась от поставок Ирану деталей для производства беспилотников'}\n",
      "{'_id': 'https://lenta.ru/news/2023/01/05/zavis/', 'href': 'https://lenta.ru/news/2023/01/05/zavis/', 'rubric': 'Мир', 'title': 'В России указали на попадание в зависимость Запада и Востока от Эрдогана'}\n",
      "{'_id': 'https://lenta.ru/news/2023/01/05/uslovia/', 'href': 'https://lenta.ru/news/2023/01/05/uslovia/', 'rubric': 'Мир', 'title': 'ШОС заявила о готовности создать условия для решения украинского кризиса'}\n",
      "{'_id': 'https://lenta.ru/news/2023/01/05/no_pressure/', 'href': 'https://lenta.ru/news/2023/01/05/no_pressure/', 'rubric': 'Мир', 'title': 'Белый дом заверил в отсутствии давления на Израиль из-за Украины'}\n",
      "{'_id': 'https://lenta.ru/news/2023/01/05/provocation/', 'href': 'https://lenta.ru/news/2023/01/05/provocation/', 'rubric': 'Мир', 'title': 'Российский генерал предупредил о подготовке провокации террористами в Сирии'}\n",
      "{'_id': 'https://lenta.ru/news/2023/01/04/negotiations/', 'href': 'https://lenta.ru/news/2023/01/04/negotiations/', 'rubric': 'Мир', 'title': 'В Белом доме заявили о продолжении переговоров по обмену заключенными'}\n",
      "{'_id': 'https://lenta.ru/news/2023/01/05/kv/', 'href': 'https://lenta.ru/news/2023/01/05/kv/', 'rubric': 'Мир', 'title': 'Киев назвали «почетным лучшим городом» мира'}\n",
      "{'_id': 'https://lenta.ru/news/2023/01/04/podozr/', 'href': 'https://lenta.ru/news/2023/01/04/podozr/', 'rubric': 'Мир', 'title': 'В российское посольство в Латвии прислали подозрительную посылку'}\n",
      "{'_id': 'https://lenta.ru/news/2023/01/04/nerav/', 'href': 'https://lenta.ru/news/2023/01/04/nerav/', 'rubric': 'Мир', 'title': 'Госдеп заявил о неравенстве дипломатов в представительствах США и России'}\n",
      "{'_id': 'https://lenta.ru/news/2023/01/04/brdl/', 'href': 'https://lenta.ru/news/2023/01/04/brdl/', 'rubric': 'Мир', 'title': 'Байден допустил отправку на Украину БМП Bradley'}\n",
      "{'_id': 'https://lenta.ru/news/2023/01/04/openeyes/', 'href': 'https://lenta.ru/news/2023/01/04/openeyes/', 'rubric': 'Мир', 'title': 'В США прокомментировали слова внука де Голля о «заговоре» против России'}\n",
      "{'_id': 'https://lenta.ru/news/2023/01/04/devyat/', 'href': 'https://lenta.ru/news/2023/01/04/devyat/', 'rubric': 'Мир', 'title': 'Вучич перечислил отозвавшие признание независимости Косово страны'}\n",
      "{'_id': 'https://lenta.ru/news/2023/01/04/rtma/', 'href': 'https://lenta.ru/news/2023/01/04/rtma/', 'rubric': 'Мир', 'title': 'В США заявили о стремлении России добиться прогресса около Артемовска'}\n",
      "{'_id': 'https://lenta.ru/news/2023/01/04/himars_kiev/', 'href': 'https://lenta.ru/news/2023/01/04/himars_kiev/', 'rubric': 'Мир', 'title': 'Белый дом допустил поставку новых РСЗО HIMARS Украине'}\n",
      "{'_id': 'https://lenta.ru/news/2023/01/04/vucic/', 'href': 'https://lenta.ru/news/2023/01/04/vucic/', 'rubric': 'Мир', 'title': 'Вучич поделился ожиданиями относительно 2023 года'}\n",
      "{'_id': 'https://lenta.ru/news/2023/01/04/serbia/', 'href': 'https://lenta.ru/news/2023/01/04/serbia/', 'rubric': 'Мир', 'title': 'Сербия увеличит численность бойцов спецназа в три раза'}\n",
      "{'_id': 'https://lenta.ru/news/2023/01/04/obadva/', 'href': 'https://lenta.ru/news/2023/01/04/obadva/', 'rubric': 'Мир', 'title': 'В ООН назвали условие для посредничества в переговорах по Украине'}\n",
      "{'_id': 'https://lenta.ru/news/2023/01/04/pczo/', 'href': 'https://lenta.ru/news/2023/01/04/pczo/', 'rubric': 'Мир', 'title': 'США анонсировали поставку нового пакета помощи Украине в ближайшие дни'}\n",
      "{'_id': 'https://lenta.ru/news/2023/01/04/volf/', 'href': 'https://lenta.ru/news/2023/01/04/volf/', 'rubric': 'Мир', 'title': 'Американский экономист назвал страх Зеленского'}\n",
      "{'_id': 'https://lenta.ru/news/2023/01/04/amx/', 'href': 'https://lenta.ru/news/2023/01/04/amx/', 'rubric': 'Мир', 'title': 'Макрон пообещал Зеленскому бронемашины AMX-10 RC'}\n",
      "{'_id': 'https://lenta.ru/news/2023/01/04/putin/', 'href': 'https://lenta.ru/news/2023/01/04/putin/', 'rubric': 'Мир', 'title': 'Путину предрекли прорыв морской обороны НАТО с помощью «Цирконов»'}\n",
      "{'_id': 'https://lenta.ru/news/2023/01/04/kill/', 'href': 'https://lenta.ru/news/2023/01/04/kill/', 'rubric': 'Мир', 'title': 'Стало известно о казни бывшего главы МИД Северной Кореи'}\n",
      "{'_id': 'https://lenta.ru/news/2023/01/04/amer_taiwan/', 'href': 'https://lenta.ru/news/2023/01/04/amer_taiwan/', 'rubric': 'Мир', 'title': 'Американские чиновники посетят Тайвань для переговоров по торговле'}\n",
      "{'_id': 'https://lenta.ru/news/2023/01/04/aharova/', 'href': 'https://lenta.ru/news/2023/01/04/aharova/', 'rubric': 'Мир', 'title': 'В МИД отвергли идею посредничества Италии в урегулировании по Украине'}\n"
     ]
    }
   ],
   "source": [
    "select_news_by_rubric(collection_name=lenta_news_collection, rubric='Мир')"
   ]
  },
  {
   "cell_type": "code",
   "execution_count": 63,
   "id": "8db82774-9573-45e4-997e-a9252c1a27dc",
   "metadata": {},
   "outputs": [],
   "source": [
    "headers={\"User-Agent\":\"Mozilla/5.0 (Windows NT 10.0; Win64; x64) AppleWebKit/537.36 (KHTML, like Gecko) Chrome/108.0.0.0 Safari/537.36\"}\n",
    "list_mail_news=[]\n",
    "news_rubric=[\"https://news.mail.ru/society/\",\"https://news.mail.ru/politics/\",\"https://news.mail.ru/economics/\",\"https://news.mail.ru/incident/\",\"https://news.mail.ru/landing/russian_culture/\",\"https://news.mail.ru/social-media/\",\"https://news.mail.ru/inregions/moscow/90/\",\"https://pogoda.mail.ru/prognoz/moskva/\"]\n",
    "for rubric in news_rubric:\n",
    "    req=requests.get(rubric, headers=headers)\n",
    "    list_mail_news.append(BeautifulSoup(req.text, \"lxml\"))\n",
    "\n"
   ]
  },
  {
   "cell_type": "code",
   "execution_count": 70,
   "id": "0c83a5bb-a353-4e38-9333-b59d84040308",
   "metadata": {},
   "outputs": [],
   "source": [
    "mail_news=[]\n",
    "for  i, one_page in enumerate(list_mail_news):\n",
    "    for j, item in enumerate(one_page.find_all('a', {'class':'newsitem__title link-holder'})):\n",
    "        if isinstance(item, Tag):\n",
    "            try:\n",
    "                #print(item)\n",
    "                myTuple=( {\"_id\":item['href'],\n",
    "                       \"href\":item['href'],\n",
    "                       \"title\":item.span.text,\n",
    "                       \"rubric\":(item['href']).split('/')[3]})\n",
    "                mail_news.append(myTuple)\n",
    "            except AttributeError:\n",
    "                continue \n",
    "            "
   ]
  },
  {
   "cell_type": "code",
   "execution_count": 71,
   "id": "741e8fc4-6b63-42bc-926a-48f158aa12fc",
   "metadata": {},
   "outputs": [],
   "source": [
    "insert_or_update_news_in_all_rubrics(mail_ru_news_collection, mail_news)"
   ]
  },
  {
   "cell_type": "code",
   "execution_count": 72,
   "id": "8302b683-d1fc-4a19-8014-0581e52ee68b",
   "metadata": {},
   "outputs": [
    {
     "name": "stdout",
     "output_type": "stream",
     "text": [
      "{'_id': 'https://news.mail.ru/society/54548033/?utm_source=block_popular', 'href': 'https://news.mail.ru/society/54548033/?utm_source=block_popular', 'rubric': 'society', 'title': 'В\\xa0Аргентине начался бум родильного туризма среди россиянок'}\n",
      "{'_id': 'https://news.mail.ru/society/54549056/', 'href': 'https://news.mail.ru/society/54549056/', 'rubric': 'society', 'title': 'В Москве и Подмосковье объявили оранжевый уровень погодной опасности из-за холодов'}\n",
      "{'_id': 'https://news.mail.ru/society/54547888/', 'href': 'https://news.mail.ru/society/54547888/', 'rubric': 'society', 'title': 'СМИ: принц Гарри заявил о драке со старшим братом Уильямом'}\n",
      "{'_id': 'https://news.mail.ru/society/54547348/', 'href': 'https://news.mail.ru/society/54547348/', 'rubric': 'society', 'title': 'В некоторых регионах России прогнозируют морозы от 15 до 53 градусов'}\n",
      "{'_id': 'https://news.mail.ru/society/54544059/', 'href': 'https://news.mail.ru/society/54544059/', 'rubric': 'society', 'title': 'Британский монарх Карл III захотел помириться с принцем Гарри'}\n",
      "{'_id': 'https://news.mail.ru/society/54541706/', 'href': 'https://news.mail.ru/society/54541706/', 'rubric': 'society', 'title': 'МИД КНР призывает не политизировать пандемию, а совместно бороться с ней'}\n",
      "{'_id': 'https://news.mail.ru/society/54538620/', 'href': 'https://news.mail.ru/society/54538620/', 'rubric': 'society', 'title': 'Вильфанд: москвичей с 6 января ожидают самые холодные пять дней века'}\n",
      "{'_id': 'https://news.mail.ru/society/54538360/', 'href': 'https://news.mail.ru/society/54538360/', 'rubric': 'society', 'title': 'Умер экс-председатель Верховного совета РСФСР Руслан Хасбулатов'}\n",
      "{'_id': 'https://news.mail.ru/society/54534456/', 'href': 'https://news.mail.ru/society/54534456/', 'rubric': 'society', 'title': 'В России за сутки выявили минимум заразившихся COVID-19 с июля — 3 тыс'}\n",
      "{'_id': 'https://news.mail.ru/society/54531938/', 'href': 'https://news.mail.ru/society/54531938/', 'rubric': 'society', 'title': 'На церемонию прощания с папой Бенедиктом XVI пришли 65 тыс. человек'}\n",
      "{'_id': 'https://news.mail.ru/society/54532070/', 'href': 'https://news.mail.ru/society/54532070/', 'rubric': 'society', 'title': 'Россиян предупредили о новых правилах в доставке пенсий'}\n",
      "{'_id': 'https://news.mail.ru/society/54531919/', 'href': 'https://news.mail.ru/society/54531919/', 'rubric': 'society', 'title': 'В России заболеваемость гриппом и ОРВИ снизилась на 29,3%'}\n",
      "{'_id': 'https://news.mail.ru/society/54531790/', 'href': 'https://news.mail.ru/society/54531790/', 'rubric': 'society', 'title': 'Российских водителей предупредили о новых дорожных знаках'}\n",
      "{'_id': 'https://news.mail.ru/society/54531637/', 'href': 'https://news.mail.ru/society/54531637/', 'rubric': 'society', 'title': 'Умер барабанщик Earth, Wind and Fire'}\n",
      "{'_id': 'https://news.mail.ru/society/54527230/', 'href': 'https://news.mail.ru/society/54527230/', 'rubric': 'society', 'title': 'В России выявили 3 884 случая заражения коронавирусом за сутки. Это минимум с 12 июля'}\n",
      "{'_id': 'https://news.mail.ru/society/54525916/', 'href': 'https://news.mail.ru/society/54525916/', 'rubric': 'society', 'title': 'В России вырос спрос на клининг и «мужей на час»'}\n",
      "{'_id': 'https://news.mail.ru/society/54523770/', 'href': 'https://news.mail.ru/society/54523770/', 'rubric': 'society', 'title': 'Житель Нижнего Новгорода выиграл ₽1 млрд в лотерее «Столото»'}\n",
      "{'_id': 'https://news.mail.ru/society/54521541/', 'href': 'https://news.mail.ru/society/54521541/', 'rubric': 'society', 'title': 'В Калининграде 1 января воздух прогрелся до рекордного значения в истории наблюдений'}\n",
      "{'_id': 'https://news.mail.ru/society/54513622/', 'href': 'https://news.mail.ru/society/54513622/', 'rubric': 'society', 'title': 'Что ждет россиян в январе 2023 года'}\n",
      "{'_id': 'https://news.mail.ru/society/54519519/', 'href': 'https://news.mail.ru/society/54519519/', 'rubric': 'society', 'title': 'Пассажиры верхних полок российских поездов получат право есть на нижних'}\n",
      "{'_id': 'https://news.mail.ru/society/54518554/', 'href': 'https://news.mail.ru/society/54518554/', 'rubric': 'society', 'title': 'В России проиндексировали пенсии'}\n",
      "{'_id': 'https://news.mail.ru/society/54518498/', 'href': 'https://news.mail.ru/society/54518498/', 'rubric': 'society', 'title': 'Bloomberg назвал самого «обедневшего» миллиардера в России'}\n",
      "{'_id': 'https://news.mail.ru/society/54542304/', 'href': 'https://news.mail.ru/society/54542304/', 'rubric': 'society', 'title': 'В Москве за сутки госпитализировали 130 человек с COVID-19'}\n"
     ]
    }
   ],
   "source": [
    "select_news_by_rubric(collection_name=mail_ru_news_collection, rubric='society')"
   ]
  },
  {
   "cell_type": "code",
   "execution_count": null,
   "id": "a31bf906-9359-467e-8bfb-39cb09a671a6",
   "metadata": {},
   "outputs": [],
   "source": []
  }
 ],
 "metadata": {
  "kernelspec": {
   "display_name": "Python 3 (ipykernel)",
   "language": "python",
   "name": "python3"
  },
  "language_info": {
   "codemirror_mode": {
    "name": "ipython",
    "version": 3
   },
   "file_extension": ".py",
   "mimetype": "text/x-python",
   "name": "python",
   "nbconvert_exporter": "python",
   "pygments_lexer": "ipython3",
   "version": "3.9.12"
  }
 },
 "nbformat": 4,
 "nbformat_minor": 5
}
