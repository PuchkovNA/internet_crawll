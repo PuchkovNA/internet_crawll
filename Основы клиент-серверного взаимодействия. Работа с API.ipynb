{
 "cells": [
  {
   "cell_type": "markdown",
   "id": "a7531d25-a507-4008-84a8-2faa8802b6e3",
   "metadata": {},
   "source": [
    "1. Посмотреть документацию к API GitHub, разобраться как вывести список репозиториев для конкретного пользователя, сохранить JSON-вывод в файле *.json.\n",
    "2. Изучить список открытых API (https://www.programmableweb.com/category/all/apis). Найти среди них любое, требующее авторизацию (любого типа). Выполнить запросы к нему, пройдя авторизацию. Ответ сервера записать в файл.\n",
    "Если нет желания заморачиваться с поиском, возьмите API вконтакте (https://vk.com/dev/first_guide). Сделайте запрос, чтобы получить список всех сообществ на которые вы подписаны.\n",
    "\n"
   ]
  },
  {
   "cell_type": "code",
   "execution_count": 1,
   "id": "25c2ddaf-0b9f-46b7-8d9e-eb6aa6a37b28",
   "metadata": {},
   "outputs": [],
   "source": [
    "import requests"
   ]
  },
  {
   "cell_type": "code",
   "execution_count": 17,
   "id": "54e0eff8-0ee7-4c21-98b0-d9b8a2f4932a",
   "metadata": {},
   "outputs": [
    {
     "name": "stdout",
     "output_type": "stream",
     "text": [
      "Ответ: \n",
      " ['camunda-bpm-examples', 'myapp', 'nifi-templates', 'numpy', 'python']\n"
     ]
    }
   ],
   "source": [
    "req = requests.get(\"https://api.github.com/users/PuchkovNA/repos\") \n",
    "print('Ответ: \\n', [i['name'] for i in  req.json()])"
   ]
  },
  {
   "cell_type": "markdown",
   "id": "ac1aa0dd-19f5-4868-8760-4fc6678413b1",
   "metadata": {},
   "source": [
    "Ответ: \n",
    " ['camunda-bpm-examples', 'myapp', 'nifi-templates', 'numpy', 'python']"
   ]
  },
  {
   "cell_type": "code",
   "execution_count": 19,
   "id": "02ea7e8d-7723-464b-9c59-d247e33b57ab",
   "metadata": {},
   "outputs": [
    {
     "name": "stdout",
     "output_type": "stream",
     "text": [
      "Status_code:\n",
      " 200\n"
     ]
    }
   ],
   "source": [
    "req = requests.get(\"https://api.github.com\", headers={'Authorization': 'Basic ************'})\n",
    "print('Status_code:\\n',req.status_code)"
   ]
  },
  {
   "cell_type": "markdown",
   "id": "4827679f-d696-43f3-a425-d9bcdfdf2efd",
   "metadata": {},
   "source": [
    "Status_code:\n",
    " 200"
   ]
  },
  {
   "cell_type": "code",
   "execution_count": 65,
   "id": "6f85c088-3e25-43f8-9673-2ac0225ca85e",
   "metadata": {},
   "outputs": [
    {
     "name": "stdout",
     "output_type": "stream",
     "text": [
      "Status_code:\n",
      " 200\n"
     ]
    }
   ],
   "source": [
    "req = requests.post(\"https://www.delivery-club.ru/eats/v1/full-text-search/v1/search\", json= {\n",
    "  \"text\": \"\",\n",
    "  \"location\":{\"longitude\":37.617779,\"latitude\":55.755246},\n",
    "  \"selector\": \"restaurant\",\"filters\":[{\"type\":\"quickfilter\",\"slug\":\"r\", \"shippingType\":\"delivery\"}]\n",
    "}, headers={'Content-Type': 'application/json; charset=UTF-8'})\n",
    "print('Status_code:\\n',req.status_code)"
   ]
  },
  {
   "cell_type": "code",
   "execution_count": 66,
   "id": "237cc81f-15f1-452d-9b52-b0c907a9d725",
   "metadata": {},
   "outputs": [
    {
     "name": "stdout",
     "output_type": "stream",
     "text": [
      "{'blocks': [{'title': 'Часто ищут', 'type': 'places', 'payload': [{'slug': 'azbukavkusa_serafimovicha_2', 'title': 'Азбука вкуса', 'brand': {'slug': 'azbuka_vkusa'}, 'business': 'shop', 'available': True, 'picture': {'url': '/images/3816972/39642cd136b6b2b1af671f051e18a677-{w}x{h}.png', 'ratio': 1.33}, 'tags': [], 'price_category': {'title': '₽₽₽'}, 'items': [], 'available_to': '2022-12-17T22:00:00+03:00', 'delivery': {'text': '45\\u2009–\\u200965 мин'}, 'analytics': 'CgQIF0gCCh8IFBobYXpidWthdmt1c2Ffc2VyYWZpbW92aWNoYV8yChsIFRoX0JDQt9Cx0YPQutCwINCy0LrRg9GB0LAKBAgPKAQKBQgWEgEBCgUIExIBAAoFCCESAQAKBQgiEgEAChcIHxoT0KfQsNGB0YLQviDQuNGJ0YPRgg=='}, {'slug': 'doktor_stoletov_lmepc', 'title': 'Доктор Столетов', 'brand': {'slug': 'doktor_stoletov'}, 'business': 'shop', 'available': True, 'picture': {'url': '/images/3483997/b7585d1f823568ead0dbce14b2ffa2a3-{w}x{h}.png', 'ratio': 1.33}, 'tags': [], 'price_category': {'title': '₽₽'}, 'items': [], 'available_to': '2022-12-17T22:00:00+03:00', 'delivery': {'text': '30\\u2009–\\u200950 мин'}, 'analytics': 'CgQIF0gCChkIFBoVZG9rdG9yX3N0b2xldG92X2xtZXBjCiEIFRod0JTQvtC60YLQvtGAINCh0YLQvtC70LXRgtC+0LIKBAgPKAQKBQgWEgEBCgUIExIBAAoFCCESAQEKBQgiEgEAChcIHxoT0KfQsNGB0YLQviDQuNGJ0YPRgg=='}, {'slug': 'kfc_hnczo', 'title': 'KFC', 'brand': {'slug': 'kfc_ru'}, 'business': 'restaurant', 'available': True, 'picture': {'url': '/images/3538649/78264450c710e37688b9ead646630b42-{w}x{h}.jpg', 'ratio': 1.33}, 'tags': [{'title': 'Фастфуд'}, {'title': 'Американская'}, {'title': 'Бургеры'}], 'price_category': {'title': '₽'}, 'items': [], 'available_to': '2022-12-17T21:00:00+03:00', 'delivery': {'text': '45\\u2009–\\u200955 мин'}, 'analytics': 'CgQIF0gCCg0IFBoJa2ZjX2huY3pvCgcIFRoDS0ZDCgQIDygBCgUIFhIBAQoFCBMSAQAKBQghEgECCgUIIhIBAAoXCB8aE9Cn0LDRgdGC0L4g0LjRidGD0YI='}, {'slug': 'Coffeemania-KrasnayaPloshad', 'title': 'Кофемания', 'brand': {'slug': 'kofemaniya'}, 'business': 'restaurant', 'available': True, 'picture': {'url': '/images/1380298/114c282d6401a7c13ced4715e9496b69-{w}x{h}.jpg', 'ratio': 1.33}, 'tags': [{'title': 'Кофе'}, {'title': 'Завтраки'}], 'price_category': {'title': '₽₽₽'}, 'items': [], 'available_to': '2022-12-17T21:30:00+03:00', 'delivery': {'text': '50\\u2009–\\u200960 мин'}, 'analytics': 'CgQIF0gCCh8IFBobQ29mZmVlbWFuaWEtS3Jhc25heWFQbG9zaGFkChYIFRoS0JrQvtGE0LXQvNCw0L3QuNGPCgQIDygBCgUIFhIBAQoFCBMSAQAKBQghEgEDCgUIIhIBAAoXCB8aE9Cn0LDRgdGC0L4g0LjRidGD0YI='}, {'slug': 'bk_teat5', 'title': 'Бургер Кинг', 'brand': {'slug': 'burger_king_ynrku'}, 'business': 'restaurant', 'available': True, 'picture': {'url': '/images/3436037/0b8f38d72256c03fad684f94439bfba5-{w}x{h}.jpg', 'ratio': 1.33}, 'tags': [{'title': 'Фастфуд'}, {'title': 'Американская'}, {'title': 'Бургеры'}, {'title': 'Кофе'}], 'price_category': {'title': '₽₽'}, 'items': [], 'available_to': '2022-12-17T22:30:00+03:00', 'delivery': {'text': '50\\u2009–\\u200960 мин'}, 'analytics': 'CgQIF0gCCgwIFBoIYmtfdGVhdDUKGQgVGhXQkdGD0YDQs9C10YAg0JrQuNC90LMKBAgPKAEKBQgWEgEBCgUIExIBAAoFCCESAQQKBQgiEgEAChcIHxoT0KfQsNGB0YLQviDQuNGJ0YPRgg=='}, {'slug': 'shokoladnica_ploshhad_revolyucii_2_3', 'title': 'Шоколадница', 'brand': {'slug': 'shokoladnica'}, 'business': 'restaurant', 'available': True, 'picture': {'url': '/images/1380298/9057ba70a760213ab552e93eebc57969-{w}x{h}.jpg', 'ratio': 1.33}, 'tags': [{'title': 'Кофе'}, {'title': 'Завтраки'}, {'title': 'Блины'}, {'title': 'Пицца'}], 'price_category': {'title': '₽₽'}, 'items': [], 'available_to': '2022-12-17T22:30:00+03:00', 'delivery': {'text': '50\\u2009–\\u200960 мин'}, 'analytics': 'CgQIF0gCCigIFBokc2hva29sYWRuaWNhX3Bsb3NoaGFkX3Jldm9seXVjaWlfMl8zChoIFRoW0KjQvtC60L7Qu9Cw0LTQvdC40YbQsAoECA8oAQoFCBYSAQEKBQgTEgEACgUIIRIBBQoFCCISAQAKFwgfGhPQp9Cw0YHRgtC+INC40YnRg9GC'}]}], 'analytics': 'CgQIF0gBCgQIGBoACiQIGRogMGUxMTA0NTMwODExNGQwZTkzZjUwZDM0Yjg0Yzc1OGIKKggdUiYKBAgeIAEKFwgfGhPQp9Cw0YHRgtC+INC40YnRg9GCCgUIIBIBBgoFCBsSAQYKBQgcEgEG', 'currency': {'code': 'RUB', 'sign': '₽', 'template': '$VALUE$\\u202f$SIGN$$CURRENCY$', 'text': 'руб.'}}\n"
     ]
    }
   ],
   "source": [
    "print(req.json())"
   ]
  },
  {
   "cell_type": "code",
   "execution_count": 67,
   "id": "f89f0998-10cf-4968-ad34-e2c05b57cdd3",
   "metadata": {},
   "outputs": [
    {
     "name": "stdout",
     "output_type": "stream",
     "text": [
      "Ответ: \n",
      " ['45\\u2009–\\u200965 мин', '30\\u2009–\\u200950 мин', '45\\u2009–\\u200955 мин', '50\\u2009–\\u200960 мин', '50\\u2009–\\u200960 мин', '50\\u2009–\\u200960 мин']\n"
     ]
    }
   ],
   "source": [
    "print('Ответ: \\n', [i['delivery']['text'] for i in  req.json()['blocks'][0]['payload']])"
   ]
  },
  {
   "cell_type": "code",
   "execution_count": 82,
   "id": "41ec250b-03f6-4565-8f15-a88fbc899df7",
   "metadata": {},
   "outputs": [
    {
     "name": "stdout",
     "output_type": "stream",
     "text": [
      "[45, 30, 45, 50, 50, 50]\n",
      "среднее минимальное время доставки:45.0 мин\n"
     ]
    }
   ],
   "source": [
    "min = [int(i['delivery']['text'].split('\\u2009–\\u2009')[0]) for i in  req.json()['blocks'][0]['payload']]\n",
    "print(min)\n",
    "print(f'среднее минимальное время доставки:{sum(min)/len(min)} мин' )"
   ]
  },
  {
   "cell_type": "code",
   "execution_count": 81,
   "id": "171fdc2e-4124-444a-b4bf-0e25b059f66a",
   "metadata": {},
   "outputs": [
    {
     "name": "stdout",
     "output_type": "stream",
     "text": [
      "[65, 50, 55, 60, 60, 60]\n"
     ]
    }
   ],
   "source": [
    "max=[int(i['delivery']['text'].split('\\u2009–\\u2009')[1].replace('мин','').strip()) for i in  req.json()['blocks'][0]['payload']]\n",
    "print(max)"
   ]
  },
  {
   "cell_type": "code",
   "execution_count": 80,
   "id": "0458736a-ceb3-44ec-ad08-f0a502f6e8d6",
   "metadata": {},
   "outputs": [
    {
     "name": "stdout",
     "output_type": "stream",
     "text": [
      "среднее максимальное время доставки:58.333333333333336 мин\n"
     ]
    }
   ],
   "source": [
    "print(f'среднее максимальное время доставки:{sum(max)/len(max)} мин')"
   ]
  },
  {
   "cell_type": "code",
   "execution_count": null,
   "id": "8dd5ce5f-1ce3-4eb3-8144-2ee1e29862c8",
   "metadata": {},
   "outputs": [],
   "source": []
  }
 ],
 "metadata": {
  "kernelspec": {
   "display_name": "Python 3 (ipykernel)",
   "language": "python",
   "name": "python3"
  },
  "language_info": {
   "codemirror_mode": {
    "name": "ipython",
    "version": 3
   },
   "file_extension": ".py",
   "mimetype": "text/x-python",
   "name": "python",
   "nbconvert_exporter": "python",
   "pygments_lexer": "ipython3",
   "version": "3.9.12"
  }
 },
 "nbformat": 4,
 "nbformat_minor": 5
}
